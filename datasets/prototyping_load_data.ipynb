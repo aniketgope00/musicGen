{
 "cells": [
  {
   "cell_type": "code",
   "execution_count": 30,
   "metadata": {},
   "outputs": [],
   "source": [
    "import numpy as np\n",
    "import pandas as pd\n",
    "import matplotlib.pyplot as plt\n",
    "import seaborn as sns \n",
    "import os\n",
    "from os import listdir\n",
    "from os.path import isfile, join"
   ]
  },
  {
   "cell_type": "code",
   "execution_count": 31,
   "metadata": {},
   "outputs": [
    {
     "data": {
      "text/html": [
       "<div>\n",
       "<style scoped>\n",
       "    .dataframe tbody tr th:only-of-type {\n",
       "        vertical-align: middle;\n",
       "    }\n",
       "\n",
       "    .dataframe tbody tr th {\n",
       "        vertical-align: top;\n",
       "    }\n",
       "\n",
       "    .dataframe thead th {\n",
       "        text-align: right;\n",
       "    }\n",
       "</style>\n",
       "<table border=\"1\" class=\"dataframe\">\n",
       "  <thead>\n",
       "    <tr style=\"text-align: right;\">\n",
       "      <th></th>\n",
       "      <th>file_name</th>\n",
       "      <th>path</th>\n",
       "      <th>instruments</th>\n",
       "    </tr>\n",
       "  </thead>\n",
       "  <tbody>\n",
       "  </tbody>\n",
       "</table>\n",
       "</div>"
      ],
      "text/plain": [
       "Empty DataFrame\n",
       "Columns: [file_name, path, instruments]\n",
       "Index: []"
      ]
     },
     "execution_count": 31,
     "metadata": {},
     "output_type": "execute_result"
    }
   ],
   "source": [
    "df = pd.DataFrame(columns=['file_name', 'path', 'instruments'])\n",
    "df.head()"
   ]
  },
  {
   "cell_type": "code",
   "execution_count": 42,
   "metadata": {},
   "outputs": [
    {
     "name": "stdout",
     "output_type": "stream",
     "text": [
      ".wav files: ['02. School Boy-9.wav', \"12 What'll I Do - Bud Shank And Bob-4.wav\", '14.  Boots Randolph - Yakety Sax-1.wav']\n",
      ".txt files: ['02. School Boy-9.txt', \"12 What'll I Do - Bud Shank And Bob-4.txt\", '14.  Boots Randolph - Yakety Sax-1.txt']\n"
     ]
    },
    {
     "data": {
      "text/html": [
       "<div>\n",
       "<style scoped>\n",
       "    .dataframe tbody tr th:only-of-type {\n",
       "        vertical-align: middle;\n",
       "    }\n",
       "\n",
       "    .dataframe tbody tr th {\n",
       "        vertical-align: top;\n",
       "    }\n",
       "\n",
       "    .dataframe thead th {\n",
       "        text-align: right;\n",
       "    }\n",
       "</style>\n",
       "<table border=\"1\" class=\"dataframe\">\n",
       "  <thead>\n",
       "    <tr style=\"text-align: right;\">\n",
       "      <th></th>\n",
       "      <th>file_name</th>\n",
       "      <th>path</th>\n",
       "      <th>instruments</th>\n",
       "    </tr>\n",
       "  </thead>\n",
       "  <tbody>\n",
       "    <tr>\n",
       "      <th>0</th>\n",
       "      <td>02. School Boy-9.</td>\n",
       "      <td>IRMAS-Sample/Testing/02. School Boy-9.wav</td>\n",
       "      <td>[pia, tru]</td>\n",
       "    </tr>\n",
       "    <tr>\n",
       "      <th>1</th>\n",
       "      <td>12 What'll I Do - Bud Shank And Bob-4.</td>\n",
       "      <td>IRMAS-Sample/Testing/12 What'll I Do - Bud Sha...</td>\n",
       "      <td>[flu, gel]</td>\n",
       "    </tr>\n",
       "    <tr>\n",
       "      <th>2</th>\n",
       "      <td>14.  Boots Randolph - Yakety Sax-1.</td>\n",
       "      <td>IRMAS-Sample/Testing/14.  Boots Randolph - Yak...</td>\n",
       "      <td>[gac, sax]</td>\n",
       "    </tr>\n",
       "  </tbody>\n",
       "</table>\n",
       "</div>"
      ],
      "text/plain": [
       "                                file_name  \\\n",
       "0                       02. School Boy-9.   \n",
       "1  12 What'll I Do - Bud Shank And Bob-4.   \n",
       "2     14.  Boots Randolph - Yakety Sax-1.   \n",
       "\n",
       "                                                path instruments  \n",
       "0          IRMAS-Sample/Testing/02. School Boy-9.wav  [pia, tru]  \n",
       "1  IRMAS-Sample/Testing/12 What'll I Do - Bud Sha...  [flu, gel]  \n",
       "2  IRMAS-Sample/Testing/14.  Boots Randolph - Yak...  [gac, sax]  "
      ]
     },
     "execution_count": 42,
     "metadata": {},
     "output_type": "execute_result"
    }
   ],
   "source": [
    "#creating dataset from irmas\n",
    "wav_files, txt_files = [], []\n",
    "arr = os.listdir(\"IRMAS-Sample/Testing\")\n",
    "for file in arr:\n",
    "    l = len(file)\n",
    "    if file[l-3:l] == 'txt':\n",
    "        txt_files.append(file)\n",
    "    else:\n",
    "        wav_files.append(file)\n",
    "print(f'.wav files: {wav_files}')\n",
    "print(f'.txt files: {txt_files}')\n",
    "\n",
    "idx = 0\n",
    "for wv, txt in zip(wav_files, txt_files):\n",
    "    l = len(txt)\n",
    "    instruments_file = open(\"IRMAS-Sample/Testing/\"+txt, 'r')\n",
    "    instruments = instruments_file.readlines()\n",
    "    for i in range(len(instruments)):\n",
    "        instruments[i] = instruments[i][0:3]\n",
    "    path = \"IRMAS-Sample/Testing/\"+ wv\n",
    "    row = [txt[0:l-3], path, instruments]\n",
    "    df.loc[idx] = row\n",
    "    idx += 1\n",
    "df.head()"
   ]
  },
  {
   "cell_type": "code",
   "execution_count": null,
   "metadata": {},
   "outputs": [],
   "source": [
    "def song_features(songs_list):\n",
    "    df = pd.DataFrame(columns=[])"
   ]
  },
  {
   "cell_type": "code",
   "execution_count": null,
   "metadata": {},
   "outputs": [
    {
     "data": {
      "text/html": [
       "<div>\n",
       "<style scoped>\n",
       "    .dataframe tbody tr th:only-of-type {\n",
       "        vertical-align: middle;\n",
       "    }\n",
       "\n",
       "    .dataframe tbody tr th {\n",
       "        vertical-align: top;\n",
       "    }\n",
       "\n",
       "    .dataframe thead th {\n",
       "        text-align: right;\n",
       "    }\n",
       "</style>\n",
       "<table border=\"1\" class=\"dataframe\">\n",
       "  <thead>\n",
       "    <tr style=\"text-align: right;\">\n",
       "      <th></th>\n",
       "      <th>file_name</th>\n",
       "      <th>path</th>\n",
       "      <th>instruments</th>\n",
       "    </tr>\n",
       "  </thead>\n",
       "  <tbody>\n",
       "    <tr>\n",
       "      <th>0</th>\n",
       "      <td>02. School Boy-9.</td>\n",
       "      <td>IRMAS-Sample/Testing/02. School Boy-9.wav</td>\n",
       "      <td>[pia, tru]</td>\n",
       "    </tr>\n",
       "    <tr>\n",
       "      <th>1</th>\n",
       "      <td>12 What'll I Do - Bud Shank And Bob-4.</td>\n",
       "      <td>IRMAS-Sample/Testing/12 What'll I Do - Bud Sha...</td>\n",
       "      <td>[flu, gel]</td>\n",
       "    </tr>\n",
       "    <tr>\n",
       "      <th>2</th>\n",
       "      <td>14.  Boots Randolph - Yakety Sax-1.</td>\n",
       "      <td>IRMAS-Sample/Testing/14.  Boots Randolph - Yak...</td>\n",
       "      <td>[gac, sax]</td>\n",
       "    </tr>\n",
       "  </tbody>\n",
       "</table>\n",
       "</div>"
      ],
      "text/plain": [
       "                                file_name  \\\n",
       "0                       02. School Boy-9.   \n",
       "1  12 What'll I Do - Bud Shank And Bob-4.   \n",
       "2     14.  Boots Randolph - Yakety Sax-1.   \n",
       "\n",
       "                                                path instruments  \n",
       "0          IRMAS-Sample/Testing/02. School Boy-9.wav  [pia, tru]  \n",
       "1  IRMAS-Sample/Testing/12 What'll I Do - Bud Sha...  [flu, gel]  \n",
       "2  IRMAS-Sample/Testing/14.  Boots Randolph - Yak...  [gac, sax]  "
      ]
     },
     "execution_count": 38,
     "metadata": {},
     "output_type": "execute_result"
    }
   ],
   "source": []
  },
  {
   "cell_type": "code",
   "execution_count": null,
   "metadata": {},
   "outputs": [],
   "source": []
  }
 ],
 "metadata": {
  "kernelspec": {
   "display_name": "Python 3",
   "language": "python",
   "name": "python3"
  },
  "language_info": {
   "codemirror_mode": {
    "name": "ipython",
    "version": 3
   },
   "file_extension": ".py",
   "mimetype": "text/x-python",
   "name": "python",
   "nbconvert_exporter": "python",
   "pygments_lexer": "ipython3",
   "version": "3.12.7"
  }
 },
 "nbformat": 4,
 "nbformat_minor": 2
}
